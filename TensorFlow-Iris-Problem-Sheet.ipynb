{
 "cells": [
  {
   "cell_type": "markdown",
   "metadata": {},
   "source": [
    "# Tensor-Flow Problem Sheet\n",
    "### Emerging Technologies - Patrick Moran - g00179039\n"
   ]
  },
  {
   "cell_type": "markdown",
   "metadata": {},
   "source": [
    "# 1. Use Tensorflow to create model\n",
    "Code adapted from [salmanahmad4u](https://github.com/salmanahmad4u/keras-iris/blob/master/iris_nn.py) and [emerging-technologies](https://github.com/emerging-technologies/keras-iris/blob/master/iris_nn.py)"
   ]
  },
  {
   "cell_type": "code",
   "execution_count": 1,
   "metadata": {
    "scrolled": true
   },
   "outputs": [
    {
     "name": "stderr",
     "output_type": "stream",
     "text": [
      "Using TensorFlow backend.\n"
     ]
    },
    {
     "ename": "RuntimeError",
     "evalue": "module compiled against API version 0xb but this version of numpy is 0xa",
     "output_type": "error",
     "traceback": [
      "\u001b[1;31m---------------------------------------------------------------------------\u001b[0m",
      "\u001b[1;31mRuntimeError\u001b[0m                              Traceback (most recent call last)",
      "\u001b[1;31mRuntimeError\u001b[0m: module compiled against API version 0xb but this version of numpy is 0xa"
     ]
    }
   ],
   "source": [
    "# Imports\n",
    "import numpy as np\n",
    "import keras as k\n",
    "import csv"
   ]
  },
  {
   "cell_type": "code",
   "execution_count": 2,
   "metadata": {},
   "outputs": [],
   "source": [
    "# Load the Iris dataset using pythons csv reading classes\n",
    "iris = list(csv.reader(open('iris.csv'), delimiter=','))"
   ]
  },
  {
   "cell_type": "code",
   "execution_count": 3,
   "metadata": {},
   "outputs": [],
   "source": [
    "# Our imputs are: sepal length, sepal width, petal length, petal width as floats.\n",
    "inputs = np.array(iris)[:,:4].astype(np.float)\n",
    "\n",
    "# Our outputs are:  setosa, versicolor or virginica (Strings)\n",
    "outputs = np.array(iris)[:,4]"
   ]
  },
  {
   "cell_type": "markdown",
   "metadata": {},
   "source": [
    "# 2. Split the data into training and testing"
   ]
  },
  {
   "cell_type": "code",
   "execution_count": 13,
   "metadata": {},
   "outputs": [],
   "source": [
    "# Convert the output strings to ints.\n",
    "outputs_vals, outputs_ints = np.unique(outputs, return_inverse=True)\n",
    "\n",
    "# Encode the category integers as binary categorical vairables using to_categorical.\n",
    "# [1,0,0] is setosa [0,1,0] is versicolor and [0,0,1] is virginica\n",
    "outputs_cats = k.utils.to_categorical(outputs_ints)\n",
    "\n",
    "# 1. Generate a random permutation of the 150 input numbers\n",
    "rand_perm_nums = np.random.permutation(len(inputs))\n",
    "\n",
    "# 2. Spilt them into to: 75 for training and 75 for testing\n",
    "train_nums, test_nums = np.array_split(rand_perm_nums, 2)\n",
    "\n",
    "# 3. Split the input and output data sets into training and test subsets.\n",
    "inputs_train, outputs_train = inputs[train_nums], outputs_cats[train_nums]\n",
    "inputs_test,  outputs_test  = inputs[test_nums],  outputs_cats[test_nums]"
   ]
  },
  {
   "cell_type": "code",
   "execution_count": null,
   "metadata": {},
   "outputs": [],
   "source": []
  }
 ],
 "metadata": {
  "kernelspec": {
   "display_name": "Python 3",
   "language": "python",
   "name": "python3"
  },
  "language_info": {
   "codemirror_mode": {
    "name": "ipython",
    "version": 3
   },
   "file_extension": ".py",
   "mimetype": "text/x-python",
   "name": "python",
   "nbconvert_exporter": "python",
   "pygments_lexer": "ipython3",
   "version": "3.5.4"
  }
 },
 "nbformat": 4,
 "nbformat_minor": 1
}
