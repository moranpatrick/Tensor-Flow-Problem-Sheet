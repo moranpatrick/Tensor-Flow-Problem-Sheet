{
 "cells": [
  {
   "cell_type": "markdown",
   "metadata": {},
   "source": [
    "# Tensor-Flow Problem Sheet\n",
    "### Emerging Technologies - Patrick Moran - g00179039\n"
   ]
  },
  {
   "cell_type": "markdown",
   "metadata": {},
   "source": [
    "# 1. Use Tensorflow to create model\n",
    "Code adapted from [salmanahmad4u](https://github.com/salmanahmad4u/keras-iris/blob/master/iris_nn.py) and [emerging-technologies](https://github.com/emerging-technologies/keras-iris/blob/master/iris_nn.py)"
   ]
  },
  {
   "cell_type": "code",
   "execution_count": 1,
   "metadata": {
    "scrolled": true
   },
   "outputs": [
    {
     "name": "stderr",
     "output_type": "stream",
     "text": [
      "Using TensorFlow backend.\n"
     ]
    },
    {
     "ename": "RuntimeError",
     "evalue": "module compiled against API version 0xb but this version of numpy is 0xa",
     "output_type": "error",
     "traceback": [
      "\u001b[1;31m---------------------------------------------------------------------------\u001b[0m",
      "\u001b[1;31mRuntimeError\u001b[0m                              Traceback (most recent call last)",
      "\u001b[1;31mRuntimeError\u001b[0m: module compiled against API version 0xb but this version of numpy is 0xa"
     ]
    }
   ],
   "source": [
    "# Imports\n",
    "import numpy as np\n",
    "import keras as k\n",
    "import csv"
   ]
  },
  {
   "cell_type": "code",
   "execution_count": 2,
   "metadata": {},
   "outputs": [],
   "source": [
    "# Load the Iris dataset using pythons csv reading classes\n",
    "iris = list(csv.reader(open('iris.csv'), delimiter=','))"
   ]
  },
  {
   "cell_type": "code",
   "execution_count": 3,
   "metadata": {},
   "outputs": [],
   "source": [
    "# Our imputs are: sepal length, sepal width, petal length, petal width as floats.\n",
    "inputs = np.array(iris)[:,:4].astype(np.float)\n",
    "\n",
    "# Our outputs are:  setosa, versicolor or virginica (Strings)\n",
    "outputs = np.array(iris)[:,4]"
   ]
  },
  {
   "cell_type": "markdown",
   "metadata": {},
   "source": [
    "# 2. Split the data into training and testing"
   ]
  },
  {
   "cell_type": "code",
   "execution_count": 4,
   "metadata": {},
   "outputs": [],
   "source": [
    "# Convert the output strings to ints.\n",
    "outputs_vals, outputs_ints = np.unique(outputs, return_inverse=True)\n",
    "\n",
    "# Encode the category integers as binary categorical vairables using to_categorical.\n",
    "# [1,0,0] is setosa [0,1,0] is versicolor and [0,0,1] is virginica\n",
    "outputs_cats = k.utils.to_categorical(outputs_ints)\n",
    "\n",
    "# 1. Generate a random permutation of the 150 input numbers\n",
    "rand_perm_nums = np.random.permutation(len(inputs))\n",
    "\n",
    "# 2. Spilt them into to: 75 for training and 75 for testing\n",
    "train_nums, test_nums = np.array_split(rand_perm_nums, 2)\n",
    "\n",
    "# 3. Split the input and output data sets into training and test subsets.\n",
    "inputs_train, outputs_train = inputs[train_nums], outputs_cats[train_nums]\n",
    "inputs_test,  outputs_test  = inputs[test_nums],  outputs_cats[test_nums]"
   ]
  },
  {
   "cell_type": "markdown",
   "metadata": {
    "collapsed": true
   },
   "source": [
    "## Create a Neural Network"
   ]
  },
  {
   "cell_type": "code",
   "execution_count": 5,
   "metadata": {},
   "outputs": [],
   "source": [
    "# Create a neural network.\n",
    "# Create a model with a linear stack of layers\n",
    "model = k.models.Sequential()\n",
    "\n",
    "# Add an initial layer with 4 input nodes, and a hidden layer with 20 nodes.\n",
    "model.add(k.layers.Dense(20, input_shape=(4,)))\n",
    "# Apply the relu activation function to that layer.\n",
    "model.add(k.layers.Activation(\"relu\"))\n",
    "# Add another layer, connected to the layer with 16 nodes, containing three output nodes.\n",
    "model.add(k.layers.Dense(3))\n",
    "# Use the softmax activation function there.\n",
    "model.add(k.layers.Activation(\"softmax\"))\n"
   ]
  },
  {
   "cell_type": "markdown",
   "metadata": {},
   "source": [
    "# 3. Train the model"
   ]
  },
  {
   "cell_type": "code",
   "execution_count": 6,
   "metadata": {},
   "outputs": [],
   "source": [
    "# Configure the model for training.\n",
    "# Uses the adam optimizer and categorical cross entropy as the loss function.\n",
    "# Add in some extra metrics - accuracy being the only one.\n",
    "model.compile(optimizer=\"adam\", loss=\"categorical_crossentropy\", metrics=[\"accuracy\"])"
   ]
  },
  {
   "cell_type": "markdown",
   "metadata": {},
   "source": [
    "# 4. Test the model"
   ]
  },
  {
   "cell_type": "code",
   "execution_count": 7,
   "metadata": {},
   "outputs": [
    {
     "name": "stdout",
     "output_type": "stream",
     "text": [
      "Epoch 1/100\n",
      "75/75 [==============================] - 1s 14ms/step - loss: 0.9786 - acc: 0.6133\n",
      "Epoch 2/100\n",
      "75/75 [==============================] - 0s 4ms/step - loss: 0.7828 - acc: 0.6400\n",
      "Epoch 3/100\n",
      "75/75 [==============================] - 0s 4ms/step - loss: 0.7228 - acc: 0.6533\n",
      "Epoch 4/100\n",
      "75/75 [==============================] - 0s 4ms/step - loss: 0.6553 - acc: 0.6800\n",
      "Epoch 5/100\n",
      "75/75 [==============================] - 0s 4ms/step - loss: 0.6102 - acc: 0.7067\n",
      "Epoch 6/100\n",
      "75/75 [==============================] - 0s 4ms/step - loss: 0.5884 - acc: 0.6667\n",
      "Epoch 7/100\n",
      "75/75 [==============================] - 0s 4ms/step - loss: 0.5659 - acc: 0.6800\n",
      "Epoch 8/100\n",
      "75/75 [==============================] - 0s 4ms/step - loss: 0.5021 - acc: 0.8133\n",
      "Epoch 9/100\n",
      "75/75 [==============================] - 0s 4ms/step - loss: 0.5165 - acc: 0.7467\n",
      "Epoch 10/100\n",
      "75/75 [==============================] - 0s 4ms/step - loss: 0.4886 - acc: 0.8267\n",
      "Epoch 11/100\n",
      "75/75 [==============================] - 0s 4ms/step - loss: 0.4772 - acc: 0.7600\n",
      "Epoch 12/100\n",
      "75/75 [==============================] - 0s 4ms/step - loss: 0.4595 - acc: 0.8933\n",
      "Epoch 13/100\n",
      "75/75 [==============================] - 0s 4ms/step - loss: 0.4479 - acc: 0.8133\n",
      "Epoch 14/100\n",
      "75/75 [==============================] - 0s 4ms/step - loss: 0.4361 - acc: 0.8667\n",
      "Epoch 15/100\n",
      "75/75 [==============================] - 0s 4ms/step - loss: 0.4140 - acc: 0.8533\n",
      "Epoch 16/100\n",
      "75/75 [==============================] - 0s 4ms/step - loss: 0.4215 - acc: 0.8133\n",
      "Epoch 17/100\n",
      "75/75 [==============================] - 0s 4ms/step - loss: 0.4027 - acc: 0.9200\n",
      "Epoch 18/100\n",
      "75/75 [==============================] - 0s 4ms/step - loss: 0.4032 - acc: 0.8800\n",
      "Epoch 19/100\n",
      "75/75 [==============================] - 0s 4ms/step - loss: 0.3835 - acc: 0.9467\n",
      "Epoch 20/100\n",
      "75/75 [==============================] - 0s 4ms/step - loss: 0.3790 - acc: 0.9067\n",
      "Epoch 21/100\n",
      "75/75 [==============================] - 0s 4ms/step - loss: 0.3719 - acc: 0.9067\n",
      "Epoch 22/100\n",
      "75/75 [==============================] - 0s 4ms/step - loss: 0.3553 - acc: 0.9067\n",
      "Epoch 23/100\n",
      "75/75 [==============================] - 0s 4ms/step - loss: 0.3566 - acc: 0.9333\n",
      "Epoch 24/100\n",
      "75/75 [==============================] - 0s 4ms/step - loss: 0.3380 - acc: 0.9867\n",
      "Epoch 25/100\n",
      "75/75 [==============================] - 0s 4ms/step - loss: 0.3320 - acc: 0.9600\n",
      "Epoch 26/100\n",
      "75/75 [==============================] - 0s 4ms/step - loss: 0.3363 - acc: 0.9200\n",
      "Epoch 27/100\n",
      "75/75 [==============================] - 0s 4ms/step - loss: 0.3264 - acc: 0.9200\n",
      "Epoch 28/100\n",
      "75/75 [==============================] - 0s 4ms/step - loss: 0.3088 - acc: 0.9467\n",
      "Epoch 29/100\n",
      "75/75 [==============================] - 0s 4ms/step - loss: 0.3127 - acc: 0.9200\n",
      "Epoch 30/100\n",
      "75/75 [==============================] - 0s 4ms/step - loss: 0.3063 - acc: 0.9467\n",
      "Epoch 31/100\n",
      "75/75 [==============================] - 0s 4ms/step - loss: 0.3013 - acc: 0.9467\n",
      "Epoch 32/100\n",
      "75/75 [==============================] - 0s 4ms/step - loss: 0.2853 - acc: 0.9733\n",
      "Epoch 33/100\n",
      "75/75 [==============================] - 0s 4ms/step - loss: 0.2798 - acc: 0.9867\n",
      "Epoch 34/100\n",
      "75/75 [==============================] - 0s 4ms/step - loss: 0.2788 - acc: 0.9600\n",
      "Epoch 35/100\n",
      "75/75 [==============================] - 0s 4ms/step - loss: 0.2627 - acc: 0.9600\n",
      "Epoch 36/100\n",
      "75/75 [==============================] - 0s 4ms/step - loss: 0.2892 - acc: 0.9200\n",
      "Epoch 37/100\n",
      "75/75 [==============================] - 0s 4ms/step - loss: 0.2582 - acc: 0.9733\n",
      "Epoch 38/100\n",
      "75/75 [==============================] - 0s 4ms/step - loss: 0.2542 - acc: 0.9467\n",
      "Epoch 39/100\n",
      "75/75 [==============================] - 0s 4ms/step - loss: 0.2475 - acc: 0.9600\n",
      "Epoch 40/100\n",
      "75/75 [==============================] - 0s 4ms/step - loss: 0.2364 - acc: 0.9867\n",
      "Epoch 41/100\n",
      "75/75 [==============================] - 0s 4ms/step - loss: 0.2295 - acc: 0.9600\n",
      "Epoch 42/100\n",
      "75/75 [==============================] - 0s 4ms/step - loss: 0.2233 - acc: 0.9867\n",
      "Epoch 43/100\n",
      "75/75 [==============================] - 0s 4ms/step - loss: 0.2229 - acc: 0.9467\n",
      "Epoch 44/100\n",
      "75/75 [==============================] - 0s 4ms/step - loss: 0.2232 - acc: 0.9733\n",
      "Epoch 45/100\n",
      "75/75 [==============================] - 0s 4ms/step - loss: 0.2074 - acc: 0.9867\n",
      "Epoch 46/100\n",
      "75/75 [==============================] - 0s 4ms/step - loss: 0.1998 - acc: 0.9867\n",
      "Epoch 47/100\n",
      "75/75 [==============================] - 0s 4ms/step - loss: 0.1969 - acc: 0.9867\n",
      "Epoch 48/100\n",
      "75/75 [==============================] - 0s 4ms/step - loss: 0.1950 - acc: 0.9867\n",
      "Epoch 49/100\n",
      "75/75 [==============================] - 0s 4ms/step - loss: 0.1918 - acc: 1.0000\n",
      "Epoch 50/100\n",
      "75/75 [==============================] - 0s 4ms/step - loss: 0.1817 - acc: 1.0000\n",
      "Epoch 51/100\n",
      "75/75 [==============================] - 0s 4ms/step - loss: 0.1760 - acc: 1.0000\n",
      "Epoch 52/100\n",
      "75/75 [==============================] - 0s 4ms/step - loss: 0.1799 - acc: 0.9867\n",
      "Epoch 53/100\n",
      "75/75 [==============================] - 0s 4ms/step - loss: 0.1666 - acc: 1.0000\n",
      "Epoch 54/100\n",
      "75/75 [==============================] - 0s 4ms/step - loss: 0.1729 - acc: 0.9867\n",
      "Epoch 55/100\n",
      "75/75 [==============================] - 0s 4ms/step - loss: 0.1610 - acc: 1.0000\n",
      "Epoch 56/100\n",
      "75/75 [==============================] - 0s 4ms/step - loss: 0.1611 - acc: 1.0000\n",
      "Epoch 57/100\n",
      "75/75 [==============================] - 0s 4ms/step - loss: 0.1538 - acc: 1.0000\n",
      "Epoch 58/100\n",
      "75/75 [==============================] - 0s 4ms/step - loss: 0.1512 - acc: 0.9867\n",
      "Epoch 59/100\n",
      "75/75 [==============================] - 0s 4ms/step - loss: 0.1493 - acc: 0.9867\n",
      "Epoch 60/100\n",
      "75/75 [==============================] - 0s 4ms/step - loss: 0.1429 - acc: 1.0000\n",
      "Epoch 61/100\n",
      "75/75 [==============================] - 0s 4ms/step - loss: 0.1348 - acc: 1.0000\n",
      "Epoch 62/100\n",
      "75/75 [==============================] - 0s 4ms/step - loss: 0.1426 - acc: 0.9733\n",
      "Epoch 63/100\n",
      "75/75 [==============================] - 0s 4ms/step - loss: 0.1365 - acc: 0.9867\n",
      "Epoch 64/100\n",
      "75/75 [==============================] - 0s 4ms/step - loss: 0.1332 - acc: 0.9867\n",
      "Epoch 65/100\n",
      "75/75 [==============================] - 0s 4ms/step - loss: 0.1339 - acc: 0.9867\n",
      "Epoch 66/100\n",
      "75/75 [==============================] - 0s 4ms/step - loss: 0.1293 - acc: 0.9867\n",
      "Epoch 67/100\n",
      "75/75 [==============================] - 0s 4ms/step - loss: 0.1249 - acc: 1.0000\n",
      "Epoch 68/100\n",
      "75/75 [==============================] - 0s 4ms/step - loss: 0.1260 - acc: 1.0000\n",
      "Epoch 69/100\n",
      "75/75 [==============================] - 0s 4ms/step - loss: 0.1184 - acc: 0.9867\n",
      "Epoch 70/100\n",
      "75/75 [==============================] - 0s 4ms/step - loss: 0.1170 - acc: 0.9867\n",
      "Epoch 71/100\n",
      "75/75 [==============================] - 0s 4ms/step - loss: 0.1154 - acc: 1.0000\n",
      "Epoch 72/100\n",
      "75/75 [==============================] - 0s 4ms/step - loss: 0.1182 - acc: 1.0000\n",
      "Epoch 73/100\n",
      "75/75 [==============================] - 0s 4ms/step - loss: 0.1215 - acc: 0.9733\n",
      "Epoch 74/100\n",
      "75/75 [==============================] - 0s 4ms/step - loss: 0.1125 - acc: 0.9867\n",
      "Epoch 75/100\n",
      "75/75 [==============================] - 0s 4ms/step - loss: 0.1023 - acc: 0.9867\n",
      "Epoch 76/100\n",
      "75/75 [==============================] - 0s 4ms/step - loss: 0.1105 - acc: 0.9867\n",
      "Epoch 77/100\n",
      "75/75 [==============================] - 0s 4ms/step - loss: 0.1018 - acc: 0.9733\n",
      "Epoch 78/100\n",
      "75/75 [==============================] - 0s 4ms/step - loss: 0.1017 - acc: 0.9867\n",
      "Epoch 79/100\n",
      "75/75 [==============================] - 0s 4ms/step - loss: 0.1041 - acc: 1.0000\n",
      "Epoch 80/100\n",
      "75/75 [==============================] - 0s 4ms/step - loss: 0.0884 - acc: 1.0000\n",
      "Epoch 81/100\n",
      "75/75 [==============================] - 0s 4ms/step - loss: 0.1100 - acc: 0.9867\n",
      "Epoch 82/100\n",
      "75/75 [==============================] - 0s 4ms/step - loss: 0.0946 - acc: 0.9867\n",
      "Epoch 83/100\n",
      "75/75 [==============================] - 0s 4ms/step - loss: 0.0934 - acc: 0.9867\n",
      "Epoch 84/100\n",
      "75/75 [==============================] - 0s 4ms/step - loss: 0.0887 - acc: 0.9867\n",
      "Epoch 85/100\n",
      "75/75 [==============================] - 0s 4ms/step - loss: 0.0925 - acc: 0.9867\n",
      "Epoch 86/100\n",
      "75/75 [==============================] - 0s 4ms/step - loss: 0.0864 - acc: 1.0000\n",
      "Epoch 87/100\n"
     ]
    },
    {
     "name": "stdout",
     "output_type": "stream",
     "text": [
      "75/75 [==============================] - 0s 4ms/step - loss: 0.0832 - acc: 1.0000\n",
      "Epoch 88/100\n",
      "75/75 [==============================] - 0s 3ms/step - loss: 0.0858 - acc: 1.0000\n",
      "Epoch 89/100\n",
      "75/75 [==============================] - 0s 4ms/step - loss: 0.0820 - acc: 1.0000\n",
      "Epoch 90/100\n",
      "75/75 [==============================] - 0s 4ms/step - loss: 0.0851 - acc: 1.0000\n",
      "Epoch 91/100\n",
      "75/75 [==============================] - 0s 4ms/step - loss: 0.0761 - acc: 1.0000\n",
      "Epoch 92/100\n",
      "75/75 [==============================] - 0s 4ms/step - loss: 0.0897 - acc: 0.9733\n",
      "Epoch 93/100\n",
      "75/75 [==============================] - 0s 4ms/step - loss: 0.0772 - acc: 0.9867\n",
      "Epoch 94/100\n",
      "75/75 [==============================] - 0s 4ms/step - loss: 0.0844 - acc: 0.9867\n",
      "Epoch 95/100\n",
      "75/75 [==============================] - 0s 4ms/step - loss: 0.0700 - acc: 1.0000\n",
      "Epoch 96/100\n",
      "75/75 [==============================] - 0s 4ms/step - loss: 0.0779 - acc: 0.9867\n",
      "Epoch 97/100\n",
      "75/75 [==============================] - 0s 4ms/step - loss: 0.0744 - acc: 0.9867\n",
      "Epoch 98/100\n",
      "75/75 [==============================] - 0s 4ms/step - loss: 0.0733 - acc: 0.9867\n",
      "Epoch 99/100\n",
      "75/75 [==============================] - 0s 4ms/step - loss: 0.0707 - acc: 0.9867\n",
      "Epoch 100/100\n",
      "75/75 [==============================] - 0s 4ms/step - loss: 0.0701 - acc: 1.0000\n",
      "75/75 [==============================] - 0s 814us/step\n"
     ]
    }
   ],
   "source": [
    "# Fit the model using our training data.\n",
    "model.fit(inputs_train, outputs_train, epochs=100, batch_size=1, verbose=1)\n",
    "\n",
    "# Evaluate the model using the test data set.\n",
    "loss, accuracy = model.evaluate(inputs_test, outputs_test, verbose=1)"
   ]
  },
  {
   "cell_type": "markdown",
   "metadata": {},
   "source": [
    "## Display Model Accuracy and Error Rate"
   ]
  },
  {
   "cell_type": "code",
   "execution_count": 8,
   "metadata": {},
   "outputs": [
    {
     "name": "stdout",
     "output_type": "stream",
     "text": [
      "\n",
      "\n",
      "Loss: 0.1253\tAccuracy: 0.9600\n"
     ]
    }
   ],
   "source": [
    "# Output the accuracy of the model.\n",
    "print(\"\\n\\nLoss: %6.4f\\tAccuracy: %6.4f\" % (loss, accuracy))"
   ]
  }
 ],
 "metadata": {
  "kernelspec": {
   "display_name": "Python 3",
   "language": "python",
   "name": "python3"
  },
  "language_info": {
   "codemirror_mode": {
    "name": "ipython",
    "version": 3
   },
   "file_extension": ".py",
   "mimetype": "text/x-python",
   "name": "python",
   "nbconvert_exporter": "python",
   "pygments_lexer": "ipython3",
   "version": "3.5.4"
  }
 },
 "nbformat": 4,
 "nbformat_minor": 1
}
