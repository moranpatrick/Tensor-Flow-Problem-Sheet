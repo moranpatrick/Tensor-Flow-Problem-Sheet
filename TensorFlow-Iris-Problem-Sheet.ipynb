{
 "cells": [
  {
   "cell_type": "markdown",
   "metadata": {},
   "source": [
    "# Tensor-Flow Problem Sheet\n",
    "### Emerging Technologies - Patrick Moran - g00179039\n"
   ]
  },
  {
   "cell_type": "markdown",
   "metadata": {},
   "source": [
    "# 1. Use Tensorflow to create model\n",
    "Code adapted from [salmanahmad4u](https://github.com/salmanahmad4u/keras-iris/blob/master/iris_nn.py) and [emerging-technologies](https://github.com/emerging-technologies/keras-iris/blob/master/iris_nn.py)"
   ]
  },
  {
   "cell_type": "code",
   "execution_count": 1,
   "metadata": {
    "scrolled": true
   },
   "outputs": [
    {
     "name": "stderr",
     "output_type": "stream",
     "text": [
      "Using TensorFlow backend.\n"
     ]
    },
    {
     "ename": "RuntimeError",
     "evalue": "module compiled against API version 0xb but this version of numpy is 0xa",
     "output_type": "error",
     "traceback": [
      "\u001b[1;31m---------------------------------------------------------------------------\u001b[0m",
      "\u001b[1;31mRuntimeError\u001b[0m                              Traceback (most recent call last)",
      "\u001b[1;31mRuntimeError\u001b[0m: module compiled against API version 0xb but this version of numpy is 0xa"
     ]
    }
   ],
   "source": [
    "# Imports\n",
    "import numpy as np\n",
    "import keras as k\n",
    "import csv"
   ]
  },
  {
   "cell_type": "code",
   "execution_count": 2,
   "metadata": {},
   "outputs": [],
   "source": [
    "# Load the Iris dataset using pythons csv reading classes\n",
    "iris = list(csv.reader(open('iris.csv'), delimiter=','))"
   ]
  },
  {
   "cell_type": "code",
   "execution_count": 3,
   "metadata": {},
   "outputs": [],
   "source": [
    "# Our imputs are: sepal length, sepal width, petal length, petal width as floats.\n",
    "inputs = np.array(iris)[:,:4].astype(np.float)\n",
    "\n",
    "# Our outputs are:  setosa, versicolor or virginica (Strings)\n",
    "outputs = np.array(iris)[:,4]"
   ]
  },
  {
   "cell_type": "markdown",
   "metadata": {},
   "source": [
    "# 2. Split the data into training and testing"
   ]
  },
  {
   "cell_type": "code",
   "execution_count": 4,
   "metadata": {},
   "outputs": [],
   "source": [
    "# Convert the output strings to ints.\n",
    "outputs_vals, outputs_ints = np.unique(outputs, return_inverse=True)\n",
    "\n",
    "# Encode the category integers as binary categorical vairables using to_categorical.\n",
    "# [1,0,0] is setosa [0,1,0] is versicolor and [0,0,1] is virginica\n",
    "outputs_cats = k.utils.to_categorical(outputs_ints)\n",
    "\n",
    "# 1. Generate a random permutation of the 150 input numbers\n",
    "rand_perm_nums = np.random.permutation(len(inputs))\n",
    "\n",
    "# 2. Spilt them into to: 75 for training and 75 for testing\n",
    "train_nums, test_nums = np.array_split(rand_perm_nums, 2)\n",
    "\n",
    "# 3. Split the input and output data sets into training and test subsets.\n",
    "inputs_train, outputs_train = inputs[train_nums], outputs_cats[train_nums]\n",
    "inputs_test,  outputs_test  = inputs[test_nums],  outputs_cats[test_nums]"
   ]
  },
  {
   "cell_type": "markdown",
   "metadata": {
    "collapsed": true
   },
   "source": [
    "## Create a Neural Network"
   ]
  },
  {
   "cell_type": "code",
   "execution_count": 5,
   "metadata": {},
   "outputs": [],
   "source": [
    "# Create a neural network.\n",
    "# Create a model with a linear stack of layers\n",
    "model = k.models.Sequential()\n",
    "\n",
    "# Add an initial layer with 4 input nodes, and a hidden layer with 16 nodes.\n",
    "model.add(k.layers.Dense(16, input_shape=(4,)))\n",
    "# Apply the relu activation function to that layer.\n",
    "model.add(k.layers.Activation(\"relu\"))\n",
    "# Add another layer, connected to the layer with 16 nodes, containing three output nodes.\n",
    "model.add(k.layers.Dense(3))\n",
    "# Use the softmax activation function there.\n",
    "model.add(k.layers.Activation(\"softmax\"))\n"
   ]
  },
  {
   "cell_type": "markdown",
   "metadata": {},
   "source": [
    "# 3. Train the model"
   ]
  },
  {
   "cell_type": "code",
   "execution_count": 6,
   "metadata": {},
   "outputs": [],
   "source": [
    "# Configure the model for training.\n",
    "# Uses the adam optimizer and categorical cross entropy as the loss function.\n",
    "# Add in some extra metrics - accuracy being the only one.\n",
    "model.compile(optimizer=\"adam\", loss=\"categorical_crossentropy\", metrics=[\"accuracy\"])"
   ]
  },
  {
   "cell_type": "markdown",
   "metadata": {},
   "source": [
    "# 4. Test the model"
   ]
  },
  {
   "cell_type": "code",
   "execution_count": 7,
   "metadata": {},
   "outputs": [
    {
     "name": "stdout",
     "output_type": "stream",
     "text": [
      "Epoch 1/100\n",
      "75/75 [==============================] - 1s 15ms/step - loss: 1.1613 - acc: 0.5600\n",
      "Epoch 2/100\n",
      "75/75 [==============================] - 0s 4ms/step - loss: 0.7411 - acc: 0.6400\n",
      "Epoch 3/100\n",
      "75/75 [==============================] - 0s 4ms/step - loss: 0.6736 - acc: 0.6000\n",
      "Epoch 4/100\n",
      "75/75 [==============================] - 0s 4ms/step - loss: 0.6246 - acc: 0.6800\n",
      "Epoch 5/100\n",
      "75/75 [==============================] - 0s 4ms/step - loss: 0.5759 - acc: 0.7733\n",
      "Epoch 6/100\n",
      "75/75 [==============================] - 0s 4ms/step - loss: 0.5541 - acc: 0.7333\n",
      "Epoch 7/100\n",
      "75/75 [==============================] - 0s 4ms/step - loss: 0.5143 - acc: 0.9333\n",
      "Epoch 8/100\n",
      "75/75 [==============================] - 0s 4ms/step - loss: 0.4928 - acc: 0.8800\n",
      "Epoch 9/100\n",
      "75/75 [==============================] - 0s 4ms/step - loss: 0.4779 - acc: 0.8933\n",
      "Epoch 10/100\n",
      "75/75 [==============================] - 0s 4ms/step - loss: 0.4638 - acc: 0.8400\n",
      "Epoch 11/100\n",
      "75/75 [==============================] - 0s 4ms/step - loss: 0.4331 - acc: 0.9333\n",
      "Epoch 12/100\n",
      "75/75 [==============================] - 0s 4ms/step - loss: 0.4260 - acc: 0.8667\n",
      "Epoch 13/100\n",
      "75/75 [==============================] - 0s 4ms/step - loss: 0.3983 - acc: 0.9600\n",
      "Epoch 14/100\n",
      "75/75 [==============================] - 0s 4ms/step - loss: 0.3892 - acc: 0.9467\n",
      "Epoch 15/100\n",
      "75/75 [==============================] - 0s 4ms/step - loss: 0.3845 - acc: 0.9467\n",
      "Epoch 16/100\n",
      "75/75 [==============================] - 0s 4ms/step - loss: 0.3576 - acc: 0.9333\n",
      "Epoch 17/100\n",
      "75/75 [==============================] - 0s 4ms/step - loss: 0.3505 - acc: 0.9733\n",
      "Epoch 18/100\n",
      "75/75 [==============================] - 0s 4ms/step - loss: 0.3387 - acc: 0.9733\n",
      "Epoch 19/100\n",
      "75/75 [==============================] - 0s 4ms/step - loss: 0.3429 - acc: 0.9200\n",
      "Epoch 20/100\n",
      "75/75 [==============================] - 0s 4ms/step - loss: 0.3251 - acc: 0.9333\n",
      "Epoch 21/100\n",
      "75/75 [==============================] - 0s 4ms/step - loss: 0.3169 - acc: 0.9333\n",
      "Epoch 22/100\n",
      "75/75 [==============================] - 0s 4ms/step - loss: 0.2975 - acc: 0.9600\n",
      "Epoch 23/100\n",
      "75/75 [==============================] - 0s 4ms/step - loss: 0.2877 - acc: 0.9600\n",
      "Epoch 24/100\n",
      "75/75 [==============================] - 0s 4ms/step - loss: 0.2792 - acc: 0.9733\n",
      "Epoch 25/100\n",
      "75/75 [==============================] - 0s 4ms/step - loss: 0.2704 - acc: 0.9600\n",
      "Epoch 26/100\n",
      "75/75 [==============================] - 0s 4ms/step - loss: 0.2647 - acc: 0.9467\n",
      "Epoch 27/100\n",
      "75/75 [==============================] - 0s 4ms/step - loss: 0.2510 - acc: 0.9200\n",
      "Epoch 28/100\n",
      "75/75 [==============================] - 0s 4ms/step - loss: 0.2554 - acc: 0.9733\n",
      "Epoch 29/100\n",
      "75/75 [==============================] - 0s 4ms/step - loss: 0.2351 - acc: 0.9600\n",
      "Epoch 30/100\n",
      "75/75 [==============================] - 0s 4ms/step - loss: 0.2320 - acc: 0.9600A: 0s - loss: 0.2607 - acc: 1\n",
      "Epoch 31/100\n",
      "75/75 [==============================] - 0s 4ms/step - loss: 0.2276 - acc: 0.9733\n",
      "Epoch 32/100\n",
      "75/75 [==============================] - 0s 4ms/step - loss: 0.2203 - acc: 0.9600\n",
      "Epoch 33/100\n",
      "75/75 [==============================] - 0s 4ms/step - loss: 0.2373 - acc: 0.9467\n",
      "Epoch 34/100\n",
      "75/75 [==============================] - 0s 4ms/step - loss: 0.2193 - acc: 0.9867\n",
      "Epoch 35/100\n",
      "75/75 [==============================] - 0s 4ms/step - loss: 0.1897 - acc: 0.9733\n",
      "Epoch 36/100\n",
      "75/75 [==============================] - 0s 4ms/step - loss: 0.2124 - acc: 0.9600\n",
      "Epoch 37/100\n",
      "75/75 [==============================] - 0s 4ms/step - loss: 0.2027 - acc: 0.9467\n",
      "Epoch 38/100\n",
      "75/75 [==============================] - 0s 4ms/step - loss: 0.1968 - acc: 0.9333\n",
      "Epoch 39/100\n",
      "75/75 [==============================] - 0s 4ms/step - loss: 0.1866 - acc: 0.9600\n",
      "Epoch 40/100\n",
      "75/75 [==============================] - 0s 4ms/step - loss: 0.1775 - acc: 0.9733\n",
      "Epoch 41/100\n",
      "75/75 [==============================] - 0s 4ms/step - loss: 0.1852 - acc: 0.9600\n",
      "Epoch 42/100\n",
      "75/75 [==============================] - 0s 4ms/step - loss: 0.1738 - acc: 0.9733\n",
      "Epoch 43/100\n",
      "75/75 [==============================] - 0s 4ms/step - loss: 0.1721 - acc: 0.9467\n",
      "Epoch 44/100\n",
      "75/75 [==============================] - 0s 4ms/step - loss: 0.1746 - acc: 0.9467\n",
      "Epoch 45/100\n",
      "75/75 [==============================] - 0s 4ms/step - loss: 0.1697 - acc: 0.9600\n",
      "Epoch 46/100\n",
      "75/75 [==============================] - 0s 4ms/step - loss: 0.1614 - acc: 0.9733\n",
      "Epoch 47/100\n",
      "75/75 [==============================] - 0s 4ms/step - loss: 0.1574 - acc: 0.9733\n",
      "Epoch 48/100\n",
      "75/75 [==============================] - 0s 4ms/step - loss: 0.1578 - acc: 0.9600\n",
      "Epoch 49/100\n",
      "75/75 [==============================] - 0s 4ms/step - loss: 0.1554 - acc: 0.9733\n",
      "Epoch 50/100\n",
      "75/75 [==============================] - 0s 4ms/step - loss: 0.1537 - acc: 0.9600\n",
      "Epoch 51/100\n",
      "75/75 [==============================] - 0s 4ms/step - loss: 0.1441 - acc: 0.9733\n",
      "Epoch 52/100\n",
      "75/75 [==============================] - 0s 4ms/step - loss: 0.1537 - acc: 0.9467\n",
      "Epoch 53/100\n",
      "75/75 [==============================] - 0s 4ms/step - loss: 0.1549 - acc: 0.9600\n",
      "Epoch 54/100\n",
      "75/75 [==============================] - 0s 4ms/step - loss: 0.1386 - acc: 0.9600\n",
      "Epoch 55/100\n",
      "75/75 [==============================] - 0s 4ms/step - loss: 0.1420 - acc: 0.9733\n",
      "Epoch 56/100\n",
      "75/75 [==============================] - 0s 4ms/step - loss: 0.1449 - acc: 0.9733\n",
      "Epoch 57/100\n",
      "75/75 [==============================] - 0s 4ms/step - loss: 0.1431 - acc: 0.9600\n",
      "Epoch 58/100\n",
      "75/75 [==============================] - 0s 4ms/step - loss: 0.1403 - acc: 0.9733\n",
      "Epoch 59/100\n",
      "75/75 [==============================] - 0s 4ms/step - loss: 0.1326 - acc: 0.9733\n",
      "Epoch 60/100\n",
      "75/75 [==============================] - 0s 4ms/step - loss: 0.1347 - acc: 0.9733\n",
      "Epoch 61/100\n",
      "75/75 [==============================] - 0s 4ms/step - loss: 0.1258 - acc: 0.9733\n",
      "Epoch 62/100\n",
      "75/75 [==============================] - 0s 4ms/step - loss: 0.1208 - acc: 0.9600\n",
      "Epoch 63/100\n",
      "75/75 [==============================] - 0s 4ms/step - loss: 0.1291 - acc: 0.9600\n",
      "Epoch 64/100\n",
      "75/75 [==============================] - 0s 4ms/step - loss: 0.1277 - acc: 0.9333\n",
      "Epoch 65/100\n",
      "75/75 [==============================] - 0s 4ms/step - loss: 0.1252 - acc: 0.9600\n",
      "Epoch 66/100\n",
      "75/75 [==============================] - 0s 4ms/step - loss: 0.1252 - acc: 0.9600\n",
      "Epoch 67/100\n",
      "75/75 [==============================] - 0s 4ms/step - loss: 0.1244 - acc: 0.9600\n",
      "Epoch 68/100\n",
      "75/75 [==============================] - 0s 4ms/step - loss: 0.1214 - acc: 0.9467\n",
      "Epoch 69/100\n",
      "75/75 [==============================] - 0s 4ms/step - loss: 0.1205 - acc: 0.9733\n",
      "Epoch 70/100\n",
      "75/75 [==============================] - 0s 4ms/step - loss: 0.1194 - acc: 0.9733\n",
      "Epoch 71/100\n",
      "75/75 [==============================] - 0s 4ms/step - loss: 0.1221 - acc: 0.9600\n",
      "Epoch 72/100\n",
      "75/75 [==============================] - 0s 4ms/step - loss: 0.1218 - acc: 0.9600\n",
      "Epoch 73/100\n",
      "75/75 [==============================] - 0s 4ms/step - loss: 0.1163 - acc: 0.9733\n",
      "Epoch 74/100\n",
      "75/75 [==============================] - 0s 4ms/step - loss: 0.1183 - acc: 0.9600\n",
      "Epoch 75/100\n",
      "75/75 [==============================] - 0s 4ms/step - loss: 0.1210 - acc: 0.9733\n",
      "Epoch 76/100\n",
      "75/75 [==============================] - 0s 4ms/step - loss: 0.1220 - acc: 0.9467\n",
      "Epoch 77/100\n",
      "75/75 [==============================] - 0s 4ms/step - loss: 0.1100 - acc: 0.9733\n",
      "Epoch 78/100\n",
      "75/75 [==============================] - 0s 4ms/step - loss: 0.1035 - acc: 0.9467\n",
      "Epoch 79/100\n",
      "75/75 [==============================] - 0s 4ms/step - loss: 0.1142 - acc: 0.9600\n",
      "Epoch 80/100\n",
      "75/75 [==============================] - 0s 4ms/step - loss: 0.1067 - acc: 0.9733\n",
      "Epoch 81/100\n",
      "75/75 [==============================] - 0s 4ms/step - loss: 0.1045 - acc: 0.9733\n",
      "Epoch 82/100\n",
      "75/75 [==============================] - 0s 4ms/step - loss: 0.1188 - acc: 0.9733\n",
      "Epoch 83/100\n",
      "75/75 [==============================] - 0s 4ms/step - loss: 0.1176 - acc: 0.9333\n",
      "Epoch 84/100\n",
      "75/75 [==============================] - 0s 4ms/step - loss: 0.1017 - acc: 0.9733\n",
      "Epoch 85/100\n",
      "75/75 [==============================] - 0s 4ms/step - loss: 0.1045 - acc: 0.9733\n",
      "Epoch 86/100\n",
      "75/75 [==============================] - 0s 4ms/step - loss: 0.1071 - acc: 0.9600\n",
      "Epoch 87/100\n"
     ]
    },
    {
     "name": "stdout",
     "output_type": "stream",
     "text": [
      "75/75 [==============================] - 0s 4ms/step - loss: 0.1011 - acc: 0.9867\n",
      "Epoch 88/100\n",
      "75/75 [==============================] - 0s 4ms/step - loss: 0.1077 - acc: 0.9600\n",
      "Epoch 89/100\n",
      "75/75 [==============================] - 0s 3ms/step - loss: 0.0998 - acc: 0.9733\n",
      "Epoch 90/100\n",
      "75/75 [==============================] - 0s 3ms/step - loss: 0.1059 - acc: 0.9867\n",
      "Epoch 91/100\n",
      "75/75 [==============================] - 0s 4ms/step - loss: 0.1059 - acc: 0.9600\n",
      "Epoch 92/100\n",
      "75/75 [==============================] - 0s 3ms/step - loss: 0.1018 - acc: 0.9733\n",
      "Epoch 93/100\n",
      "75/75 [==============================] - 0s 4ms/step - loss: 0.1085 - acc: 0.9733\n",
      "Epoch 94/100\n",
      "75/75 [==============================] - 0s 4ms/step - loss: 0.0966 - acc: 0.9733\n",
      "Epoch 95/100\n",
      "75/75 [==============================] - 0s 4ms/step - loss: 0.0981 - acc: 0.9733\n",
      "Epoch 96/100\n",
      "75/75 [==============================] - 0s 4ms/step - loss: 0.0981 - acc: 0.9600\n",
      "Epoch 97/100\n",
      "75/75 [==============================] - 0s 4ms/step - loss: 0.1111 - acc: 0.9600\n",
      "Epoch 98/100\n",
      "75/75 [==============================] - 0s 4ms/step - loss: 0.0986 - acc: 0.9733\n",
      "Epoch 99/100\n",
      "75/75 [==============================] - 0s 3ms/step - loss: 0.0959 - acc: 0.9733\n",
      "Epoch 100/100\n",
      "75/75 [==============================] - 0s 4ms/step - loss: 0.0984 - acc: 0.9733\n",
      "75/75 [==============================] - 0s 648us/step\n"
     ]
    }
   ],
   "source": [
    "# Fit the model using our training data.\n",
    "model.fit(inputs_train, outputs_train, epochs=100, batch_size=1, verbose=1)\n",
    "\n",
    "# Evaluate the model using the test data set.\n",
    "loss, accuracy = model.evaluate(inputs_test, outputs_test, verbose=1)"
   ]
  },
  {
   "cell_type": "markdown",
   "metadata": {},
   "source": [
    "## Display Model Accuracy and Error Rate"
   ]
  },
  {
   "cell_type": "code",
   "execution_count": 8,
   "metadata": {},
   "outputs": [
    {
     "name": "stdout",
     "output_type": "stream",
     "text": [
      "\n",
      "\n",
      "Loss: 0.0708\tAccuracy: 0.9733\n"
     ]
    }
   ],
   "source": [
    "# Output the accuracy of the model.\n",
    "print(\"\\n\\nLoss: %6.4f\\tAccuracy: %6.4f\" % (loss, accuracy))"
   ]
  }
 ],
 "metadata": {
  "kernelspec": {
   "display_name": "Python 3",
   "language": "python",
   "name": "python3"
  },
  "language_info": {
   "codemirror_mode": {
    "name": "ipython",
    "version": 3
   },
   "file_extension": ".py",
   "mimetype": "text/x-python",
   "name": "python",
   "nbconvert_exporter": "python",
   "pygments_lexer": "ipython3",
   "version": "3.5.4"
  }
 },
 "nbformat": 4,
 "nbformat_minor": 1
}
